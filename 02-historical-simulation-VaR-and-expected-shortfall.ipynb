{
 "cells": [
  {
   "cell_type": "code",
   "execution_count": 1,
   "metadata": {
    "pycharm": {
     "is_executing": false
    }
   },
   "outputs": [],
   "source": [
    "import numpy as np\n",
    "import pandas as pd\n",
    "import matplotlib.pyplot as plt"
   ]
  },
  {
   "cell_type": "code",
   "execution_count": 2,
   "metadata": {
    "pycharm": {
     "is_executing": false,
     "name": "#%%\n"
    }
   },
   "outputs": [
    {
     "data": {
      "text/html": [
       "<div>\n",
       "<style scoped>\n",
       "    .dataframe tbody tr th:only-of-type {\n",
       "        vertical-align: middle;\n",
       "    }\n",
       "\n",
       "    .dataframe tbody tr th {\n",
       "        vertical-align: top;\n",
       "    }\n",
       "\n",
       "    .dataframe thead th {\n",
       "        text-align: right;\n",
       "    }\n",
       "</style>\n",
       "<table border=\"1\" class=\"dataframe\">\n",
       "  <thead>\n",
       "    <tr style=\"text-align: right;\">\n",
       "      <th></th>\n",
       "      <th>Price</th>\n",
       "    </tr>\n",
       "    <tr>\n",
       "      <th>Date</th>\n",
       "      <th></th>\n",
       "    </tr>\n",
       "  </thead>\n",
       "  <tbody>\n",
       "    <tr>\n",
       "      <th>1986-10-03</th>\n",
       "      <td>233.71</td>\n",
       "    </tr>\n",
       "    <tr>\n",
       "      <th>1986-10-06</th>\n",
       "      <td>234.78</td>\n",
       "    </tr>\n",
       "    <tr>\n",
       "      <th>1986-10-07</th>\n",
       "      <td>234.41</td>\n",
       "    </tr>\n",
       "    <tr>\n",
       "      <th>1986-10-08</th>\n",
       "      <td>236.68</td>\n",
       "    </tr>\n",
       "    <tr>\n",
       "      <th>1986-10-09</th>\n",
       "      <td>235.85</td>\n",
       "    </tr>\n",
       "    <tr>\n",
       "      <th>...</th>\n",
       "      <td>...</td>\n",
       "    </tr>\n",
       "    <tr>\n",
       "      <th>1987-10-26</th>\n",
       "      <td>227.67</td>\n",
       "    </tr>\n",
       "    <tr>\n",
       "      <th>1987-10-27</th>\n",
       "      <td>233.19</td>\n",
       "    </tr>\n",
       "    <tr>\n",
       "      <th>1987-10-28</th>\n",
       "      <td>233.28</td>\n",
       "    </tr>\n",
       "    <tr>\n",
       "      <th>1987-10-29</th>\n",
       "      <td>244.77</td>\n",
       "    </tr>\n",
       "    <tr>\n",
       "      <th>1987-10-30</th>\n",
       "      <td>251.79</td>\n",
       "    </tr>\n",
       "  </tbody>\n",
       "</table>\n",
       "<p>273 rows × 1 columns</p>\n",
       "</div>"
      ],
      "text/plain": [
       "             Price\n",
       "Date              \n",
       "1986-10-03  233.71\n",
       "1986-10-06  234.78\n",
       "1986-10-07  234.41\n",
       "1986-10-08  236.68\n",
       "1986-10-09  235.85\n",
       "...            ...\n",
       "1987-10-26  227.67\n",
       "1987-10-27  233.19\n",
       "1987-10-28  233.28\n",
       "1987-10-29  244.77\n",
       "1987-10-30  251.79\n",
       "\n",
       "[273 rows x 1 columns]"
      ]
     },
     "execution_count": 2,
     "metadata": {},
     "output_type": "execute_result"
    }
   ],
   "source": [
    "df = pd.read_csv('data/crisis_1987.csv', index_col=0, parse_dates=True)\n",
    "df"
   ]
  },
  {
   "cell_type": "code",
   "execution_count": 3,
   "metadata": {
    "pycharm": {
     "is_executing": false,
     "name": "#%%\n"
    }
   },
   "outputs": [
    {
     "data": {
      "text/html": [
       "<div>\n",
       "<style scoped>\n",
       "    .dataframe tbody tr th:only-of-type {\n",
       "        vertical-align: middle;\n",
       "    }\n",
       "\n",
       "    .dataframe tbody tr th {\n",
       "        vertical-align: top;\n",
       "    }\n",
       "\n",
       "    .dataframe thead th {\n",
       "        text-align: right;\n",
       "    }\n",
       "</style>\n",
       "<table border=\"1\" class=\"dataframe\">\n",
       "  <thead>\n",
       "    <tr style=\"text-align: right;\">\n",
       "      <th></th>\n",
       "      <th>Price</th>\n",
       "      <th>Return</th>\n",
       "    </tr>\n",
       "    <tr>\n",
       "      <th>Date</th>\n",
       "      <th></th>\n",
       "      <th></th>\n",
       "    </tr>\n",
       "  </thead>\n",
       "  <tbody>\n",
       "    <tr>\n",
       "      <th>1986-10-03</th>\n",
       "      <td>233.71</td>\n",
       "      <td>NaN</td>\n",
       "    </tr>\n",
       "    <tr>\n",
       "      <th>1986-10-06</th>\n",
       "      <td>234.78</td>\n",
       "      <td>0.004568</td>\n",
       "    </tr>\n",
       "    <tr>\n",
       "      <th>1986-10-07</th>\n",
       "      <td>234.41</td>\n",
       "      <td>-0.001577</td>\n",
       "    </tr>\n",
       "    <tr>\n",
       "      <th>1986-10-08</th>\n",
       "      <td>236.68</td>\n",
       "      <td>0.009637</td>\n",
       "    </tr>\n",
       "    <tr>\n",
       "      <th>1986-10-09</th>\n",
       "      <td>235.85</td>\n",
       "      <td>-0.003513</td>\n",
       "    </tr>\n",
       "    <tr>\n",
       "      <th>...</th>\n",
       "      <td>...</td>\n",
       "      <td>...</td>\n",
       "    </tr>\n",
       "    <tr>\n",
       "      <th>1987-10-26</th>\n",
       "      <td>227.67</td>\n",
       "      <td>-0.086418</td>\n",
       "    </tr>\n",
       "    <tr>\n",
       "      <th>1987-10-27</th>\n",
       "      <td>233.19</td>\n",
       "      <td>0.023956</td>\n",
       "    </tr>\n",
       "    <tr>\n",
       "      <th>1987-10-28</th>\n",
       "      <td>233.28</td>\n",
       "      <td>0.000386</td>\n",
       "    </tr>\n",
       "    <tr>\n",
       "      <th>1987-10-29</th>\n",
       "      <td>244.77</td>\n",
       "      <td>0.048080</td>\n",
       "    </tr>\n",
       "    <tr>\n",
       "      <th>1987-10-30</th>\n",
       "      <td>251.79</td>\n",
       "      <td>0.028276</td>\n",
       "    </tr>\n",
       "  </tbody>\n",
       "</table>\n",
       "<p>273 rows × 2 columns</p>\n",
       "</div>"
      ],
      "text/plain": [
       "             Price    Return\n",
       "Date                        \n",
       "1986-10-03  233.71       NaN\n",
       "1986-10-06  234.78  0.004568\n",
       "1986-10-07  234.41 -0.001577\n",
       "1986-10-08  236.68  0.009637\n",
       "1986-10-09  235.85 -0.003513\n",
       "...            ...       ...\n",
       "1987-10-26  227.67 -0.086418\n",
       "1987-10-27  233.19  0.023956\n",
       "1987-10-28  233.28  0.000386\n",
       "1987-10-29  244.77  0.048080\n",
       "1987-10-30  251.79  0.028276\n",
       "\n",
       "[273 rows x 2 columns]"
      ]
     },
     "execution_count": 3,
     "metadata": {},
     "output_type": "execute_result"
    }
   ],
   "source": [
    "from econometrics import log_return\n",
    "df['Return'] = log_return(df['Price'])\n",
    "df"
   ]
  },
  {
   "cell_type": "markdown",
   "metadata": {
    "pycharm": {
     "name": "#%% md\n"
    }
   },
   "source": [
    "# 1. October 1987"
   ]
  },
  {
   "cell_type": "markdown",
   "metadata": {
    "pycharm": {
     "name": "#%% md\n"
    }
   },
   "source": [
    "## a. Historical Simulation VaR"
   ]
  },
  {
   "cell_type": "code",
   "execution_count": 4,
   "metadata": {
    "pycharm": {
     "is_executing": false,
     "name": "#%% \n"
    }
   },
   "outputs": [],
   "source": [
    "# period for which to compute VaR\n",
    "start_date = '1987-10-01'\n",
    "end_date = '1987-10-30'\n",
    "\n",
    "m = 250  # past observations to use\n",
    "confidence = 0.99  # confidence interval"
   ]
  },
  {
   "cell_type": "code",
   "execution_count": 5,
   "metadata": {
    "pycharm": {
     "is_executing": false,
     "name": "#%%\n"
    }
   },
   "outputs": [
    {
     "data": {
      "text/html": [
       "<div>\n",
       "<style scoped>\n",
       "    .dataframe tbody tr th:only-of-type {\n",
       "        vertical-align: middle;\n",
       "    }\n",
       "\n",
       "    .dataframe tbody tr th {\n",
       "        vertical-align: top;\n",
       "    }\n",
       "\n",
       "    .dataframe thead th {\n",
       "        text-align: right;\n",
       "    }\n",
       "</style>\n",
       "<table border=\"1\" class=\"dataframe\">\n",
       "  <thead>\n",
       "    <tr style=\"text-align: right;\">\n",
       "      <th></th>\n",
       "      <th>VaR HS Long</th>\n",
       "      <th>VaR HS Short</th>\n",
       "    </tr>\n",
       "  </thead>\n",
       "  <tbody>\n",
       "    <tr>\n",
       "      <th>1987-10-01</th>\n",
       "      <td>0.023725</td>\n",
       "      <td>0.023575</td>\n",
       "    </tr>\n",
       "    <tr>\n",
       "      <th>1987-10-02</th>\n",
       "      <td>0.023725</td>\n",
       "      <td>0.023575</td>\n",
       "    </tr>\n",
       "    <tr>\n",
       "      <th>1987-10-05</th>\n",
       "      <td>0.023725</td>\n",
       "      <td>0.023575</td>\n",
       "    </tr>\n",
       "    <tr>\n",
       "      <th>1987-10-06</th>\n",
       "      <td>0.023725</td>\n",
       "      <td>0.023575</td>\n",
       "    </tr>\n",
       "    <tr>\n",
       "      <th>1987-10-07</th>\n",
       "      <td>0.024310</td>\n",
       "      <td>0.023575</td>\n",
       "    </tr>\n",
       "    <tr>\n",
       "      <th>1987-10-08</th>\n",
       "      <td>0.024310</td>\n",
       "      <td>0.023575</td>\n",
       "    </tr>\n",
       "    <tr>\n",
       "      <th>1987-10-09</th>\n",
       "      <td>0.024310</td>\n",
       "      <td>0.023575</td>\n",
       "    </tr>\n",
       "    <tr>\n",
       "      <th>1987-10-12</th>\n",
       "      <td>0.024310</td>\n",
       "      <td>0.023575</td>\n",
       "    </tr>\n",
       "    <tr>\n",
       "      <th>1987-10-13</th>\n",
       "      <td>0.024310</td>\n",
       "      <td>0.023575</td>\n",
       "    </tr>\n",
       "    <tr>\n",
       "      <th>1987-10-14</th>\n",
       "      <td>0.024310</td>\n",
       "      <td>0.023575</td>\n",
       "    </tr>\n",
       "    <tr>\n",
       "      <th>1987-10-15</th>\n",
       "      <td>0.025832</td>\n",
       "      <td>0.023575</td>\n",
       "    </tr>\n",
       "    <tr>\n",
       "      <th>1987-10-16</th>\n",
       "      <td>0.025832</td>\n",
       "      <td>0.023575</td>\n",
       "    </tr>\n",
       "    <tr>\n",
       "      <th>1987-10-19</th>\n",
       "      <td>0.027091</td>\n",
       "      <td>0.023575</td>\n",
       "    </tr>\n",
       "    <tr>\n",
       "      <th>1987-10-20</th>\n",
       "      <td>0.028706</td>\n",
       "      <td>0.023575</td>\n",
       "    </tr>\n",
       "    <tr>\n",
       "      <th>1987-10-21</th>\n",
       "      <td>0.028706</td>\n",
       "      <td>0.024221</td>\n",
       "    </tr>\n",
       "    <tr>\n",
       "      <th>1987-10-22</th>\n",
       "      <td>0.028706</td>\n",
       "      <td>0.026430</td>\n",
       "    </tr>\n",
       "    <tr>\n",
       "      <th>1987-10-23</th>\n",
       "      <td>0.035089</td>\n",
       "      <td>0.026430</td>\n",
       "    </tr>\n",
       "    <tr>\n",
       "      <th>1987-10-26</th>\n",
       "      <td>0.035089</td>\n",
       "      <td>0.026430</td>\n",
       "    </tr>\n",
       "    <tr>\n",
       "      <th>1987-10-27</th>\n",
       "      <td>0.046615</td>\n",
       "      <td>0.026430</td>\n",
       "    </tr>\n",
       "    <tr>\n",
       "      <th>1987-10-28</th>\n",
       "      <td>0.046615</td>\n",
       "      <td>0.026430</td>\n",
       "    </tr>\n",
       "    <tr>\n",
       "      <th>1987-10-29</th>\n",
       "      <td>0.046615</td>\n",
       "      <td>0.026430</td>\n",
       "    </tr>\n",
       "    <tr>\n",
       "      <th>1987-10-30</th>\n",
       "      <td>0.046615</td>\n",
       "      <td>0.038458</td>\n",
       "    </tr>\n",
       "  </tbody>\n",
       "</table>\n",
       "</div>"
      ],
      "text/plain": [
       "            VaR HS Long  VaR HS Short\n",
       "1987-10-01     0.023725      0.023575\n",
       "1987-10-02     0.023725      0.023575\n",
       "1987-10-05     0.023725      0.023575\n",
       "1987-10-06     0.023725      0.023575\n",
       "1987-10-07     0.024310      0.023575\n",
       "1987-10-08     0.024310      0.023575\n",
       "1987-10-09     0.024310      0.023575\n",
       "1987-10-12     0.024310      0.023575\n",
       "1987-10-13     0.024310      0.023575\n",
       "1987-10-14     0.024310      0.023575\n",
       "1987-10-15     0.025832      0.023575\n",
       "1987-10-16     0.025832      0.023575\n",
       "1987-10-19     0.027091      0.023575\n",
       "1987-10-20     0.028706      0.023575\n",
       "1987-10-21     0.028706      0.024221\n",
       "1987-10-22     0.028706      0.026430\n",
       "1987-10-23     0.035089      0.026430\n",
       "1987-10-26     0.035089      0.026430\n",
       "1987-10-27     0.046615      0.026430\n",
       "1987-10-28     0.046615      0.026430\n",
       "1987-10-29     0.046615      0.026430\n",
       "1987-10-30     0.046615      0.038458"
      ]
     },
     "execution_count": 5,
     "metadata": {},
     "output_type": "execute_result"
    }
   ],
   "source": [
    "from econometrics import var_historical_simulation\n",
    "\n",
    "var_long_hs = var_historical_simulation(df['Return'], start_date, end_date, m, confidence)\n",
    "var_short_hs = var_historical_simulation(-df['Return'], start_date, end_date, m, confidence)\n",
    "\n",
    "var_long_hs.name = 'VaR HS Long'\n",
    "var_short_hs.name = 'VaR HS Short'\n",
    "\n",
    "pd.concat([var_long_hs, var_short_hs], axis=1)"
   ]
  },
  {
   "cell_type": "markdown",
   "metadata": {
    "pycharm": {
     "name": "#%% md\n"
    }
   },
   "source": [
    "## a. Weighted Historical Simulation VaR"
   ]
  },
  {
   "cell_type": "markdown",
   "metadata": {
    "pycharm": {
     "name": "#%% md\n"
    }
   },
   "source": [
    "Computing the weights"
   ]
  },
  {
   "cell_type": "code",
   "execution_count": 6,
   "metadata": {
    "pycharm": {
     "is_executing": false,
     "name": "#%%\n"
    }
   },
   "outputs": [],
   "source": [
    "def nu_tau(nu, tau, m):\n",
    "    return np.power(nu, tau - 1) * (1 - nu) / (1 - nu ** m)"
   ]
  },
  {
   "cell_type": "code",
   "execution_count": 7,
   "metadata": {
    "pycharm": {
     "is_executing": false,
     "name": "#%%\n"
    }
   },
   "outputs": [
    {
     "data": {
      "text/plain": [
       "0      0.000891\n",
       "1      0.000900\n",
       "2      0.000909\n",
       "3      0.000918\n",
       "4      0.000928\n",
       "         ...   \n",
       "245    0.010453\n",
       "246    0.010559\n",
       "247    0.010666\n",
       "248    0.010773\n",
       "249    0.010882\n",
       "Name: Weight, Length: 250, dtype: float64"
      ]
     },
     "execution_count": 7,
     "metadata": {},
     "output_type": "execute_result"
    }
   ],
   "source": [
    "nu = 0.99\n",
    "\n",
    "weights_list = [nu_tau(nu, tau, m) for tau in range(1, m + 1)]\n",
    "weights = pd.Series(weights_list[::-1])\n",
    "weights.name = 'Weight'\n",
    "\n",
    "weights"
   ]
  },
  {
   "cell_type": "code",
   "execution_count": 8,
   "metadata": {
    "pycharm": {
     "is_executing": false,
     "name": "#%%\n"
    }
   },
   "outputs": [
    {
     "data": {
      "text/html": [
       "<div>\n",
       "<style scoped>\n",
       "    .dataframe tbody tr th:only-of-type {\n",
       "        vertical-align: middle;\n",
       "    }\n",
       "\n",
       "    .dataframe tbody tr th {\n",
       "        vertical-align: top;\n",
       "    }\n",
       "\n",
       "    .dataframe thead th {\n",
       "        text-align: right;\n",
       "    }\n",
       "</style>\n",
       "<table border=\"1\" class=\"dataframe\">\n",
       "  <thead>\n",
       "    <tr style=\"text-align: right;\">\n",
       "      <th></th>\n",
       "      <th>VaR WHS Long</th>\n",
       "      <th>VaR WHS Short</th>\n",
       "    </tr>\n",
       "  </thead>\n",
       "  <tbody>\n",
       "    <tr>\n",
       "      <th>1987-10-01</th>\n",
       "      <td>0.023680</td>\n",
       "      <td>0.028445</td>\n",
       "    </tr>\n",
       "    <tr>\n",
       "      <th>1987-10-02</th>\n",
       "      <td>0.023680</td>\n",
       "      <td>0.028445</td>\n",
       "    </tr>\n",
       "    <tr>\n",
       "      <th>1987-10-05</th>\n",
       "      <td>0.023680</td>\n",
       "      <td>0.028445</td>\n",
       "    </tr>\n",
       "    <tr>\n",
       "      <th>1987-10-06</th>\n",
       "      <td>0.023680</td>\n",
       "      <td>0.024333</td>\n",
       "    </tr>\n",
       "    <tr>\n",
       "      <th>1987-10-07</th>\n",
       "      <td>0.027377</td>\n",
       "      <td>0.024333</td>\n",
       "    </tr>\n",
       "    <tr>\n",
       "      <th>1987-10-08</th>\n",
       "      <td>0.027377</td>\n",
       "      <td>0.024333</td>\n",
       "    </tr>\n",
       "    <tr>\n",
       "      <th>1987-10-09</th>\n",
       "      <td>0.027377</td>\n",
       "      <td>0.024333</td>\n",
       "    </tr>\n",
       "    <tr>\n",
       "      <th>1987-10-12</th>\n",
       "      <td>0.027377</td>\n",
       "      <td>0.024333</td>\n",
       "    </tr>\n",
       "    <tr>\n",
       "      <th>1987-10-13</th>\n",
       "      <td>0.027377</td>\n",
       "      <td>0.024333</td>\n",
       "    </tr>\n",
       "    <tr>\n",
       "      <th>1987-10-14</th>\n",
       "      <td>0.027377</td>\n",
       "      <td>0.024333</td>\n",
       "    </tr>\n",
       "    <tr>\n",
       "      <th>1987-10-15</th>\n",
       "      <td>0.029982</td>\n",
       "      <td>0.024333</td>\n",
       "    </tr>\n",
       "    <tr>\n",
       "      <th>1987-10-16</th>\n",
       "      <td>0.029982</td>\n",
       "      <td>0.024333</td>\n",
       "    </tr>\n",
       "    <tr>\n",
       "      <th>1987-10-19</th>\n",
       "      <td>0.052976</td>\n",
       "      <td>0.024333</td>\n",
       "    </tr>\n",
       "    <tr>\n",
       "      <th>1987-10-20</th>\n",
       "      <td>0.228997</td>\n",
       "      <td>0.024333</td>\n",
       "    </tr>\n",
       "    <tr>\n",
       "      <th>1987-10-21</th>\n",
       "      <td>0.228997</td>\n",
       "      <td>0.051954</td>\n",
       "    </tr>\n",
       "    <tr>\n",
       "      <th>1987-10-22</th>\n",
       "      <td>0.228997</td>\n",
       "      <td>0.087089</td>\n",
       "    </tr>\n",
       "    <tr>\n",
       "      <th>1987-10-23</th>\n",
       "      <td>0.228997</td>\n",
       "      <td>0.087089</td>\n",
       "    </tr>\n",
       "    <tr>\n",
       "      <th>1987-10-26</th>\n",
       "      <td>0.228997</td>\n",
       "      <td>0.087089</td>\n",
       "    </tr>\n",
       "    <tr>\n",
       "      <th>1987-10-27</th>\n",
       "      <td>0.228997</td>\n",
       "      <td>0.087089</td>\n",
       "    </tr>\n",
       "    <tr>\n",
       "      <th>1987-10-28</th>\n",
       "      <td>0.228997</td>\n",
       "      <td>0.087089</td>\n",
       "    </tr>\n",
       "    <tr>\n",
       "      <th>1987-10-29</th>\n",
       "      <td>0.228997</td>\n",
       "      <td>0.087089</td>\n",
       "    </tr>\n",
       "    <tr>\n",
       "      <th>1987-10-30</th>\n",
       "      <td>0.228997</td>\n",
       "      <td>0.087089</td>\n",
       "    </tr>\n",
       "  </tbody>\n",
       "</table>\n",
       "</div>"
      ],
      "text/plain": [
       "            VaR WHS Long  VaR WHS Short\n",
       "1987-10-01      0.023680       0.028445\n",
       "1987-10-02      0.023680       0.028445\n",
       "1987-10-05      0.023680       0.028445\n",
       "1987-10-06      0.023680       0.024333\n",
       "1987-10-07      0.027377       0.024333\n",
       "1987-10-08      0.027377       0.024333\n",
       "1987-10-09      0.027377       0.024333\n",
       "1987-10-12      0.027377       0.024333\n",
       "1987-10-13      0.027377       0.024333\n",
       "1987-10-14      0.027377       0.024333\n",
       "1987-10-15      0.029982       0.024333\n",
       "1987-10-16      0.029982       0.024333\n",
       "1987-10-19      0.052976       0.024333\n",
       "1987-10-20      0.228997       0.024333\n",
       "1987-10-21      0.228997       0.051954\n",
       "1987-10-22      0.228997       0.087089\n",
       "1987-10-23      0.228997       0.087089\n",
       "1987-10-26      0.228997       0.087089\n",
       "1987-10-27      0.228997       0.087089\n",
       "1987-10-28      0.228997       0.087089\n",
       "1987-10-29      0.228997       0.087089\n",
       "1987-10-30      0.228997       0.087089"
      ]
     },
     "execution_count": 8,
     "metadata": {},
     "output_type": "execute_result"
    }
   ],
   "source": [
    "from econometrics import var_weighted_historical_simulation\n",
    "\n",
    "var_long_whs = var_weighted_historical_simulation(df['Return'], start_date, end_date, m, weights, confidence)\n",
    "var_short_whs = var_weighted_historical_simulation(-df['Return'], start_date, end_date, m, weights, confidence)\n",
    "\n",
    "var_long_whs.name = 'VaR WHS Long'\n",
    "var_short_whs.name = 'VaR WHS Short'\n",
    "\n",
    "pd.concat([var_long_whs, var_short_whs], axis=1)"
   ]
  },
  {
   "cell_type": "code",
   "execution_count": 47,
   "metadata": {
    "pycharm": {
     "is_executing": false,
     "name": "#%%\n"
    }
   },
   "outputs": [
    {
     "data": {
      "image/png": "[encoded data removed]",
      "text/plain": [
       "<Figure size 720x576 with 2 Axes>"
      ]
     },
     "metadata": {
      "needs_background": "light"
     },
     "output_type": "display_data"
    }
   ],
   "source": [
    "import matplotlib.ticker as ticker\n",
    "import matplotlib.dates as mdates\n",
    "date_fmt = mdates.DateFormatter('%d-%b')\n",
    "\n",
    "ret_october = df.loc[start_date : end_date, 'Return']\n",
    "\n",
    "fig, (long, short) = plt.subplots(nrows=2, ncols=1, figsize=(10, 8), sharex=True)\n",
    "\n",
    "fig.suptitle('VaR and Daily Returns/Losses from S&P 500 Positions, October 1987', fontsize=14)\n",
    "  \n",
    "long.plot(-ret_october, label='Loss', lw='2')\n",
    "long.plot(var_long_hs, label='VaR (HS)', c='darkred', lw='2')\n",
    "long.plot(var_long_whs, label='VaR (WHS)', c='darkorange', lw='2')\n",
    "long.legend(loc=2)\n",
    "long.set(ylabel='VaR and Loss',\n",
    "        title=r'$\\bf{' + 'Long' + '}$' + ' Positions')\n",
    "\n",
    "short.plot(ret_october, label='Return', lw='2')\n",
    "short.plot(var_short_hs, label='VaR (HS)', c='darkred', lw='2')\n",
    "short.plot(var_short_whs, label='VaR (WHS)', c='darkorange', lw='2')\n",
    "short.legend(loc=3)\n",
    "short.set(xlabel='Loss Date', ylabel='VaR and Return',\n",
    "        title=r'$\\bf{' + 'Short' + '}$' + ' Positions')\n",
    "short.xaxis.set_major_formatter(date_fmt)\n",
    "\n",
    "for ax in (long, short):\n",
    "    ax.grid(ls='dashed')\n",
    "    ax.yaxis.set_major_formatter(ticker.PercentFormatter(xmax=1.0, decimals=0))\n",
    "\n",
    "plt.show()"
   ]
  },
  {
   "cell_type": "markdown",
   "metadata": {
    "pycharm": {
     "name": "#%% md\n"
    }
   },
   "source": [
    "# 2. 2008-2009 Crisis"
   ]
  },
  {
   "cell_type": "code",
   "execution_count": 10,
   "metadata": {
    "pycharm": {
     "is_executing": false,
     "name": "#%%\n"
    }
   },
   "outputs": [
    {
     "data": {
      "text/html": [
       "<div>\n",
       "<style scoped>\n",
       "    .dataframe tbody tr th:only-of-type {\n",
       "        vertical-align: middle;\n",
       "    }\n",
       "\n",
       "    .dataframe tbody tr th {\n",
       "        vertical-align: top;\n",
       "    }\n",
       "\n",
       "    .dataframe thead th {\n",
       "        text-align: right;\n",
       "    }\n",
       "</style>\n",
       "<table border=\"1\" class=\"dataframe\">\n",
       "  <thead>\n",
       "    <tr style=\"text-align: right;\">\n",
       "      <th></th>\n",
       "      <th>Price</th>\n",
       "    </tr>\n",
       "    <tr>\n",
       "      <th>Date</th>\n",
       "      <th></th>\n",
       "    </tr>\n",
       "  </thead>\n",
       "  <tbody>\n",
       "    <tr>\n",
       "      <th>1999-12-31</th>\n",
       "      <td>2021.40</td>\n",
       "    </tr>\n",
       "    <tr>\n",
       "      <th>2000-01-04</th>\n",
       "      <td>1925.41</td>\n",
       "    </tr>\n",
       "    <tr>\n",
       "      <th>2000-01-05</th>\n",
       "      <td>1929.28</td>\n",
       "    </tr>\n",
       "    <tr>\n",
       "      <th>2000-01-06</th>\n",
       "      <td>1931.51</td>\n",
       "    </tr>\n",
       "    <tr>\n",
       "      <th>2000-01-07</th>\n",
       "      <td>1983.83</td>\n",
       "    </tr>\n",
       "    <tr>\n",
       "      <th>...</th>\n",
       "      <td>...</td>\n",
       "    </tr>\n",
       "    <tr>\n",
       "      <th>2010-03-29</th>\n",
       "      <td>1942.51</td>\n",
       "    </tr>\n",
       "    <tr>\n",
       "      <th>2010-03-30</th>\n",
       "      <td>1942.81</td>\n",
       "    </tr>\n",
       "    <tr>\n",
       "      <th>2010-03-31</th>\n",
       "      <td>1936.48</td>\n",
       "    </tr>\n",
       "    <tr>\n",
       "      <th>2010-04-01</th>\n",
       "      <td>1950.91</td>\n",
       "    </tr>\n",
       "    <tr>\n",
       "      <th>2010-04-05</th>\n",
       "      <td>1966.44</td>\n",
       "    </tr>\n",
       "  </tbody>\n",
       "</table>\n",
       "<p>2435 rows × 1 columns</p>\n",
       "</div>"
      ],
      "text/plain": [
       "              Price\n",
       "Date               \n",
       "1999-12-31  2021.40\n",
       "2000-01-04  1925.41\n",
       "2000-01-05  1929.28\n",
       "2000-01-06  1931.51\n",
       "2000-01-07  1983.83\n",
       "...             ...\n",
       "2010-03-29  1942.51\n",
       "2010-03-30  1942.81\n",
       "2010-03-31  1936.48\n",
       "2010-04-01  1950.91\n",
       "2010-04-05  1966.44\n",
       "\n",
       "[2435 rows x 1 columns]"
      ]
     },
     "execution_count": 10,
     "metadata": {},
     "output_type": "execute_result"
    }
   ],
   "source": [
    "sp500 = pd.read_csv('data/crisis_2008.csv', index_col=0, parse_dates=True)\n",
    "sp500"
   ]
  },
  {
   "cell_type": "code",
   "execution_count": 11,
   "metadata": {
    "pycharm": {
     "is_executing": false,
     "name": "#%%\n"
    }
   },
   "outputs": [
    {
     "data": {
      "text/html": [
       "<div>\n",
       "<style scoped>\n",
       "    .dataframe tbody tr th:only-of-type {\n",
       "        vertical-align: middle;\n",
       "    }\n",
       "\n",
       "    .dataframe tbody tr th {\n",
       "        vertical-align: top;\n",
       "    }\n",
       "\n",
       "    .dataframe thead th {\n",
       "        text-align: right;\n",
       "    }\n",
       "</style>\n",
       "<table border=\"1\" class=\"dataframe\">\n",
       "  <thead>\n",
       "    <tr style=\"text-align: right;\">\n",
       "      <th></th>\n",
       "      <th>Price</th>\n",
       "      <th>Return</th>\n",
       "    </tr>\n",
       "    <tr>\n",
       "      <th>Date</th>\n",
       "      <th></th>\n",
       "      <th></th>\n",
       "    </tr>\n",
       "  </thead>\n",
       "  <tbody>\n",
       "    <tr>\n",
       "      <th>1999-12-31</th>\n",
       "      <td>2021.40</td>\n",
       "      <td>NaN</td>\n",
       "    </tr>\n",
       "    <tr>\n",
       "      <th>2000-01-04</th>\n",
       "      <td>1925.41</td>\n",
       "      <td>-0.048651</td>\n",
       "    </tr>\n",
       "    <tr>\n",
       "      <th>2000-01-05</th>\n",
       "      <td>1929.28</td>\n",
       "      <td>0.002008</td>\n",
       "    </tr>\n",
       "    <tr>\n",
       "      <th>2000-01-06</th>\n",
       "      <td>1931.51</td>\n",
       "      <td>0.001155</td>\n",
       "    </tr>\n",
       "    <tr>\n",
       "      <th>2000-01-07</th>\n",
       "      <td>1983.83</td>\n",
       "      <td>0.026727</td>\n",
       "    </tr>\n",
       "    <tr>\n",
       "      <th>...</th>\n",
       "      <td>...</td>\n",
       "      <td>...</td>\n",
       "    </tr>\n",
       "    <tr>\n",
       "      <th>2010-03-29</th>\n",
       "      <td>1942.51</td>\n",
       "      <td>0.005850</td>\n",
       "    </tr>\n",
       "    <tr>\n",
       "      <th>2010-03-30</th>\n",
       "      <td>1942.81</td>\n",
       "      <td>0.000154</td>\n",
       "    </tr>\n",
       "    <tr>\n",
       "      <th>2010-03-31</th>\n",
       "      <td>1936.48</td>\n",
       "      <td>-0.003263</td>\n",
       "    </tr>\n",
       "    <tr>\n",
       "      <th>2010-04-01</th>\n",
       "      <td>1950.91</td>\n",
       "      <td>0.007424</td>\n",
       "    </tr>\n",
       "    <tr>\n",
       "      <th>2010-04-05</th>\n",
       "      <td>1966.44</td>\n",
       "      <td>0.007929</td>\n",
       "    </tr>\n",
       "  </tbody>\n",
       "</table>\n",
       "<p>2435 rows × 2 columns</p>\n",
       "</div>"
      ],
      "text/plain": [
       "              Price    Return\n",
       "Date                         \n",
       "1999-12-31  2021.40       NaN\n",
       "2000-01-04  1925.41 -0.048651\n",
       "2000-01-05  1929.28  0.002008\n",
       "2000-01-06  1931.51  0.001155\n",
       "2000-01-07  1983.83  0.026727\n",
       "...             ...       ...\n",
       "2010-03-29  1942.51  0.005850\n",
       "2010-03-30  1942.81  0.000154\n",
       "2010-03-31  1936.48 -0.003263\n",
       "2010-04-01  1950.91  0.007424\n",
       "2010-04-05  1966.44  0.007929\n",
       "\n",
       "[2435 rows x 2 columns]"
      ]
     },
     "execution_count": 11,
     "metadata": {},
     "output_type": "execute_result"
    }
   ],
   "source": [
    "sp500['Return'] = log_return(sp500['Price'])\n",
    "sp500"
   ]
  },
  {
   "cell_type": "markdown",
   "metadata": {
    "pycharm": {
     "name": "#%% md\n"
    }
   },
   "source": [
    "## a. VaR: Historical Simulation vs Risk Metrics"
   ]
  },
  {
   "cell_type": "code",
   "execution_count": 12,
   "metadata": {
    "pycharm": {
     "is_executing": false,
     "name": "#%%\n"
    }
   },
   "outputs": [
    {
     "data": {
      "text/html": [
       "<div>\n",
       "<style scoped>\n",
       "    .dataframe tbody tr th:only-of-type {\n",
       "        vertical-align: middle;\n",
       "    }\n",
       "\n",
       "    .dataframe tbody tr th {\n",
       "        vertical-align: top;\n",
       "    }\n",
       "\n",
       "    .dataframe thead th {\n",
       "        text-align: right;\n",
       "    }\n",
       "</style>\n",
       "<table border=\"1\" class=\"dataframe\">\n",
       "  <thead>\n",
       "    <tr style=\"text-align: right;\">\n",
       "      <th></th>\n",
       "      <th>Price</th>\n",
       "      <th>Return</th>\n",
       "      <th>RM Variance</th>\n",
       "      <th>RM Std</th>\n",
       "    </tr>\n",
       "    <tr>\n",
       "      <th>Date</th>\n",
       "      <th></th>\n",
       "      <th></th>\n",
       "      <th></th>\n",
       "      <th></th>\n",
       "    </tr>\n",
       "  </thead>\n",
       "  <tbody>\n",
       "    <tr>\n",
       "      <th>1999-12-31</th>\n",
       "      <td>2021.40</td>\n",
       "      <td>NaN</td>\n",
       "      <td>NaN</td>\n",
       "      <td>NaN</td>\n",
       "    </tr>\n",
       "    <tr>\n",
       "      <th>2000-01-04</th>\n",
       "      <td>1925.41</td>\n",
       "      <td>-0.048651</td>\n",
       "      <td>0.000000</td>\n",
       "      <td>0.000000</td>\n",
       "    </tr>\n",
       "    <tr>\n",
       "      <th>2000-01-05</th>\n",
       "      <td>1929.28</td>\n",
       "      <td>0.002008</td>\n",
       "      <td>0.000142</td>\n",
       "      <td>0.011917</td>\n",
       "    </tr>\n",
       "    <tr>\n",
       "      <th>2000-01-06</th>\n",
       "      <td>1931.51</td>\n",
       "      <td>0.001155</td>\n",
       "      <td>0.000134</td>\n",
       "      <td>0.011565</td>\n",
       "    </tr>\n",
       "    <tr>\n",
       "      <th>2000-01-07</th>\n",
       "      <td>1983.83</td>\n",
       "      <td>0.026727</td>\n",
       "      <td>0.000126</td>\n",
       "      <td>0.011216</td>\n",
       "    </tr>\n",
       "    <tr>\n",
       "      <th>...</th>\n",
       "      <td>...</td>\n",
       "      <td>...</td>\n",
       "      <td>...</td>\n",
       "      <td>...</td>\n",
       "    </tr>\n",
       "    <tr>\n",
       "      <th>2010-03-29</th>\n",
       "      <td>1942.51</td>\n",
       "      <td>0.005850</td>\n",
       "      <td>0.000055</td>\n",
       "      <td>0.007391</td>\n",
       "    </tr>\n",
       "    <tr>\n",
       "      <th>2010-03-30</th>\n",
       "      <td>1942.81</td>\n",
       "      <td>0.000154</td>\n",
       "      <td>0.000053</td>\n",
       "      <td>0.007308</td>\n",
       "    </tr>\n",
       "    <tr>\n",
       "      <th>2010-03-31</th>\n",
       "      <td>1936.48</td>\n",
       "      <td>-0.003263</td>\n",
       "      <td>0.000050</td>\n",
       "      <td>0.007085</td>\n",
       "    </tr>\n",
       "    <tr>\n",
       "      <th>2010-04-01</th>\n",
       "      <td>1950.91</td>\n",
       "      <td>0.007424</td>\n",
       "      <td>0.000048</td>\n",
       "      <td>0.006916</td>\n",
       "    </tr>\n",
       "    <tr>\n",
       "      <th>2010-04-05</th>\n",
       "      <td>1966.44</td>\n",
       "      <td>0.007929</td>\n",
       "      <td>0.000048</td>\n",
       "      <td>0.006947</td>\n",
       "    </tr>\n",
       "  </tbody>\n",
       "</table>\n",
       "<p>2435 rows × 4 columns</p>\n",
       "</div>"
      ],
      "text/plain": [
       "              Price    Return  RM Variance    RM Std\n",
       "Date                                                \n",
       "1999-12-31  2021.40       NaN          NaN       NaN\n",
       "2000-01-04  1925.41 -0.048651     0.000000  0.000000\n",
       "2000-01-05  1929.28  0.002008     0.000142  0.011917\n",
       "2000-01-06  1931.51  0.001155     0.000134  0.011565\n",
       "2000-01-07  1983.83  0.026727     0.000126  0.011216\n",
       "...             ...       ...          ...       ...\n",
       "2010-03-29  1942.51  0.005850     0.000055  0.007391\n",
       "2010-03-30  1942.81  0.000154     0.000053  0.007308\n",
       "2010-03-31  1936.48 -0.003263     0.000050  0.007085\n",
       "2010-04-01  1950.91  0.007424     0.000048  0.006916\n",
       "2010-04-05  1966.44  0.007929     0.000048  0.006947\n",
       "\n",
       "[2435 rows x 4 columns]"
      ]
     },
     "execution_count": 12,
     "metadata": {},
     "output_type": "execute_result"
    }
   ],
   "source": [
    "def risk_metrics(returns):\n",
    "    variance = pd.Series(index=returns.index, dtype='float64', name='RM Variance')\n",
    "    variance[0] = np.nan\n",
    "    variance[1] = 0\n",
    "    start_idx = 2  # starting index for computing volatility\n",
    "    for i in range(start_idx, len(returns)):\n",
    "        variance[i] = 0.94 * variance[i - 1] + 0.06 * returns[i - 1] ** 2\n",
    "    return variance\n",
    "\n",
    "sp500['RM Variance'] = risk_metrics(sp500['Return'])\n",
    "sp500['RM Std'] = np.sqrt(sp500['RM Variance'])\n",
    "sp500"
   ]
  },
  {
   "cell_type": "code",
   "execution_count": 13,
   "metadata": {
    "pycharm": {
     "is_executing": false,
     "name": "#%%\n"
    }
   },
   "outputs": [
    {
     "data": {
      "text/html": [
       "<div>\n",
       "<style scoped>\n",
       "    .dataframe tbody tr th:only-of-type {\n",
       "        vertical-align: middle;\n",
       "    }\n",
       "\n",
       "    .dataframe tbody tr th {\n",
       "        vertical-align: top;\n",
       "    }\n",
       "\n",
       "    .dataframe thead th {\n",
       "        text-align: right;\n",
       "    }\n",
       "</style>\n",
       "<table border=\"1\" class=\"dataframe\">\n",
       "  <thead>\n",
       "    <tr style=\"text-align: right;\">\n",
       "      <th></th>\n",
       "      <th>VaR HS</th>\n",
       "      <th>VaR RM</th>\n",
       "    </tr>\n",
       "  </thead>\n",
       "  <tbody>\n",
       "    <tr>\n",
       "      <th>2008-07-01</th>\n",
       "      <td>0.096751</td>\n",
       "      <td>0.088036</td>\n",
       "    </tr>\n",
       "    <tr>\n",
       "      <th>2008-07-02</th>\n",
       "      <td>0.096751</td>\n",
       "      <td>0.085661</td>\n",
       "    </tr>\n",
       "    <tr>\n",
       "      <th>2008-07-03</th>\n",
       "      <td>0.096751</td>\n",
       "      <td>0.089370</td>\n",
       "    </tr>\n",
       "    <tr>\n",
       "      <th>2008-07-07</th>\n",
       "      <td>0.096751</td>\n",
       "      <td>0.086671</td>\n",
       "    </tr>\n",
       "    <tr>\n",
       "      <th>2008-07-08</th>\n",
       "      <td>0.096751</td>\n",
       "      <td>0.085384</td>\n",
       "    </tr>\n",
       "    <tr>\n",
       "      <th>...</th>\n",
       "      <td>...</td>\n",
       "      <td>...</td>\n",
       "    </tr>\n",
       "    <tr>\n",
       "      <th>2009-12-22</th>\n",
       "      <td>0.155146</td>\n",
       "      <td>0.067822</td>\n",
       "    </tr>\n",
       "    <tr>\n",
       "      <th>2009-12-24</th>\n",
       "      <td>0.148933</td>\n",
       "      <td>0.066071</td>\n",
       "    </tr>\n",
       "    <tr>\n",
       "      <th>2009-12-28</th>\n",
       "      <td>0.148933</td>\n",
       "      <td>0.065564</td>\n",
       "    </tr>\n",
       "    <tr>\n",
       "      <th>2009-12-29</th>\n",
       "      <td>0.148933</td>\n",
       "      <td>0.063609</td>\n",
       "    </tr>\n",
       "    <tr>\n",
       "      <th>2009-12-30</th>\n",
       "      <td>0.148933</td>\n",
       "      <td>0.061711</td>\n",
       "    </tr>\n",
       "  </tbody>\n",
       "</table>\n",
       "<p>355 rows × 2 columns</p>\n",
       "</div>"
      ],
      "text/plain": [
       "              VaR HS    VaR RM\n",
       "2008-07-01  0.096751  0.088036\n",
       "2008-07-02  0.096751  0.085661\n",
       "2008-07-03  0.096751  0.089370\n",
       "2008-07-07  0.096751  0.086671\n",
       "2008-07-08  0.096751  0.085384\n",
       "...              ...       ...\n",
       "2009-12-22  0.155146  0.067822\n",
       "2009-12-24  0.148933  0.066071\n",
       "2009-12-28  0.148933  0.065564\n",
       "2009-12-29  0.148933  0.063609\n",
       "2009-12-30  0.148933  0.061711\n",
       "\n",
       "[355 rows x 2 columns]"
      ]
     },
     "execution_count": 13,
     "metadata": {},
     "output_type": "execute_result"
    }
   ],
   "source": [
    "from scipy.stats import norm\n",
    "\n",
    "start_date2 = '2008-07-01'\n",
    "end_date2 = '2009-12-30'\n",
    "m2 = 250\n",
    "confidence2 = 0.99\n",
    "\n",
    "# 10 day VaR\n",
    "var_sp500_hs = np.sqrt(10) * var_historical_simulation(sp500['Return'], start_date2, end_date2, m2, confidence2)\n",
    "var_sp500_rm = -np.sqrt(10) * sp500.loc[start_date2 : end_date2, 'RM Std'] * norm().ppf(1-confidence2)\n",
    "\n",
    "var_financial_crisis = pd.concat([var_sp500_hs, var_sp500_rm], axis=1)\n",
    "var_financial_crisis.columns = ['VaR HS', 'VaR RM']\n",
    "var_financial_crisis"
   ]
  },
  {
   "cell_type": "code",
   "execution_count": 48,
   "metadata": {
    "pycharm": {
     "is_executing": false,
     "name": "#%%\n"
    }
   },
   "outputs": [
    {
     "data": {
      "text/plain": [
       "<matplotlib.legend.Legend at 0x7f5ae957bc10>"
      ]
     },
     "execution_count": 48,
     "metadata": {},
     "output_type": "execute_result"
    },
    {
     "data": {
      "image/png": "[encoded data removed]",
      "text/plain": [
       "<Figure size 864x432 with 1 Axes>"
      ]
     },
     "metadata": {
      "needs_background": "light"
     },
     "output_type": "display_data"
    }
   ],
   "source": [
    "fig, ax = plt.subplots(figsize=(12, 6))\n",
    "\n",
    "ax.plot(var_financial_crisis['VaR RM'], label='Risk Metrics')\n",
    "ax.plot(var_financial_crisis['VaR HS'], label='HS')\n",
    "\n",
    "ax.yaxis.set_major_formatter(ticker.PercentFormatter(xmax=1.0, decimals=0))\n",
    "\n",
    "ax.set(ylabel='Value at risk (VaR)', \n",
    "       title='10-day, 1% VaR from Historical Simulation and Risk Metrics\\nduring the 2008-2009 crisis period')\n",
    "ax.grid(ls='dashed')\n",
    "ax.legend()"
   ]
  },
  {
   "cell_type": "markdown",
   "metadata": {
    "pycharm": {
     "name": "#%% md\n"
    }
   },
   "source": [
    "## b. Profit/Loss"
   ]
  },
  {
   "cell_type": "code",
   "execution_count": 15,
   "metadata": {
    "pycharm": {
     "is_executing": false,
     "name": "#%%\n"
    }
   },
   "outputs": [],
   "source": [
    "var_financial_crisis['Simple Return'] = sp500['Price'].pct_change().loc[start_date2 : end_date2]\n",
    "\n",
    "limit = 100000  # VaR limit\n",
    "\n",
    "pnl = pd.DataFrame()\n",
    "\n",
    "pnl['Position HS'] = limit / var_financial_crisis['VaR HS']\n",
    "pnl['Position RM'] = limit / var_financial_crisis['VaR RM']\n",
    "\n",
    "pnl['PnL HS'] = pnl['Position HS'] * var_financial_crisis['Simple Return']\n",
    "pnl['PnL RM'] = pnl['Position RM'] * var_financial_crisis['Simple Return']\n",
    "\n",
    "var_financial_crisis['Cum PnL HS'] = pnl['PnL HS'].cumsum()\n",
    "var_financial_crisis['Cum PnL RM'] = pnl['PnL RM'].cumsum()"
   ]
  },
  {
   "cell_type": "code",
   "execution_count": 42,
   "metadata": {
    "pycharm": {
     "is_executing": false,
     "name": "#%%\n"
    }
   },
   "outputs": [
    {
     "data": {
      "image/png": "[encoded data removed]",
      "text/plain": [
       "<Figure size 864x432 with 1 Axes>"
      ]
     },
     "metadata": {
      "needs_background": "light"
     },
     "output_type": "display_data"
    }
   ],
   "source": [
    "import matplotlib.ticker as ticker\n",
    "fmt = ticker.FormatStrFormatter('%.0f')\n",
    "\n",
    "fig, ax = plt.subplots(figsize=(12, 6))\n",
    "\n",
    "ax.plot(var_financial_crisis['Cum PnL RM'], label='P/L from RM Var')\n",
    "ax.plot(var_financial_crisis['Cum PnL HS'], label='P/L from HS Var')\n",
    "\n",
    "ax.yaxis.set_major_formatter(ticker.FuncFormatter(lambda x, p: format(int(x), ',')))  # thousands separator\n",
    "ax.yaxis.set_major_locator(ticker.MultipleLocator(50000))  # 50,000 spacing\n",
    "\n",
    "ax.set(ylabel='Cumulative P/L', \n",
    "       title='Cumulative P/L from traders with HS and RM VaRs')\n",
    "ax.grid(ls='dashed')\n",
    "ax.legend()\n",
    "\n",
    "plt.show()"
   ]
  },
  {
   "cell_type": "code",
   "execution_count": null,
   "metadata": {},
   "outputs": [],
   "source": []
  }
 ],
 "metadata": {
  "kernelspec": {
   "display_name": "Python 3",
   "language": "python",
   "name": "python3"
  },
  "language_info": {
   "codemirror_mode": {
    "name": "ipython",
    "version": 3
   },
   "file_extension": ".py",
   "mimetype": "text/x-python",
   "name": "python",
   "nbconvert_exporter": "python",
   "pygments_lexer": "ipython3",
   "version": "3.7.6"
  },
  "pycharm": {
   "stem_cell": {
    "cell_type": "raw",
    "metadata": {
     "collapsed": false
    },
    "source": []
   }
  }
 },
 "nbformat": 4,
 "nbformat_minor": 1
}
